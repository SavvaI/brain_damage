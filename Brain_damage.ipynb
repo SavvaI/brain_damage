{
 "cells": [
  {
   "cell_type": "code",
   "execution_count": 1,
   "metadata": {
    "collapsed": false
   },
   "outputs": [
    {
     "name": "stdout",
     "output_type": "stream",
     "text": [
      "Extracting MNIST_data/train-images-idx3-ubyte.gz\n",
      "Extracting MNIST_data/train-labels-idx1-ubyte.gz\n",
      "Extracting MNIST_data/t10k-images-idx3-ubyte.gz\n",
      "Extracting MNIST_data/t10k-labels-idx1-ubyte.gz\n"
     ]
    }
   ],
   "source": [
    "import matplotlib.pyplot as plt\n",
    "import tensorflow as tf\n",
    "import numpy as np\n",
    "from tensorflow.examples.tutorials.mnist import input_data\n",
    "%matplotlib inline  \n",
    "mnist = input_data.read_data_sets(\"MNIST_data/\", one_hot=True)"
   ]
  },
  {
   "cell_type": "code",
   "execution_count": 2,
   "metadata": {
    "collapsed": false
   },
   "outputs": [],
   "source": [
    "class Network:\n",
    "    def __init__(self, layers = [784, 400, 200, 10]):\n",
    "        self.layers = layers\n",
    "        self.weights = []\n",
    "        self.masks = []\n",
    "        self.weights_dim = [[layers[i], layers[i+1]] for i in range(len(layers) - 1)]\n",
    "        for i in self.weights_dim:\n",
    "            self.masks.append(tf.placeholder(tf.float32, i))\n",
    "            self.weights.append(\n",
    "                [tf.Variable(tf.truncated_normal(i, stddev=0.1)), tf.Variable(tf.zeros(i[1:]))])\n",
    "        self.session = tf.Session()\n",
    "    \n",
    "    def build_graph(self):\n",
    "        x = self.x = tf.placeholder(tf.float32, [None, self.layers[0]])\n",
    "        y_ = self.y_ = tf.placeholder(tf.float32, [None, self.layers[-1]])\n",
    "        \n",
    "        y = x\n",
    "        for w, b in self.weights[:-1]:\n",
    "            y = tf.nn.sigmoid(tf.matmul(y, w) + b)\n",
    "            \n",
    "        w, b = self.weights[-1]\n",
    "        y = tf.nn.softmax(tf.matmul(y, w) + b)\n",
    "        \n",
    "        correct_prediction = tf.equal(tf.argmax(y, 1), tf.argmax(y_, 1))\n",
    "        self.correct_rate = tf.reduce_mean(tf.cast(correct_prediction, tf.float32))\n",
    "        \n",
    "        cross_entropy = tf.reduce_mean(-tf.reduce_sum(y_ * tf.log(y), reduction_indices=[1]))\n",
    "        self.train_step = tf.train.AdadeltaOptimizer(learning_rate = 1, rho = 0.5).minimize(cross_entropy)\n",
    "        \n",
    "        #Brain damage\n",
    "        self.delete_neurons = []\n",
    "        for i in range(len(self.weights)):\n",
    "            self.delete_neurons.append(tf.assign(self.weights[i][0], tf.mul(self.weights[i][0], self.masks[i])))\n",
    "            \n",
    "        self.init = tf.initialize_all_variables()\n",
    "        \n",
    "    def brain_damage(self, layer, rate):\n",
    "        W = self.session.run(self.weights[layer][0])\n",
    "#        print(W.shape)\n",
    "        wsum = list(np.sum(np.absolute(W), axis = 1))\n",
    "        wsorted = sorted([(i, wsum[i]) for i in range(len(wsum))], key = lambda x: x[1])\n",
    "        to_delete = [x[0] for x in wsorted][:int(rate * len(wsorted))]\n",
    "#        print(to_delete)\n",
    "        mask_out = np.ones(self.weights_dim[layer])\n",
    "        mask_in = np.ones(self.weights_dim[layer - 1])\n",
    "        for i in to_delete:\n",
    "            for j in range(self.weights_dim[layer][1]):\n",
    "                mask_out[i, j] = 0\n",
    "            for j in range(self.weights_dim[layer - 1][0]):\n",
    "                mask_in[j, i] = 0\n",
    "                \n",
    "        self.session.run(self.delete_neurons[layer], feed_dict = {self.masks[layer] : mask_out})\n",
    "        self.session.run(self.delete_neurons[layer - 1], feed_dict = {self.masks[layer - 1] : mask_in})\n",
    "        \n",
    "    def init_variables(self):\n",
    "        self.session.run(self.init)\n",
    "        \n",
    "    def train(self, steps):\n",
    "        for i in range(steps):\n",
    "            batch_xs, batch_ys = mnist.train.next_batch(100)\n",
    "            self.session.run(self.train_step, feed_dict = {self.x : batch_xs, self.y_ : batch_ys})\n",
    "            \n",
    "    def layer_utility(self, layer):\n",
    "        W = self.session.run(self.weights[layer][0])\n",
    "        wsum = list(np.sum(np.absolute(W), axis = 1))\n",
    "        plt.hist(wsum)\n",
    "            \n",
    "    def validate(self):\n",
    "        return self.session.run(self.correct_rate, feed_dict={self.x: mnist.test.images, self.y_: mnist.test.labels})\n",
    "    \n",
    "    def delete_layer(self, layer):\n",
    "        self.session.run(self.delete_neurons[layer], feed_dict = {self.masks[layer] : np.zeros(self.weights_dim[layer])})\n",
    "     \n",
    "    def restore_layer(self, layer):\n",
    "        self.session.run(self.delete_neurons[layer], feed_dict = {self.masks[layer] : np.ones(self.weights_dim[layer])})\n",
    "        \n",
    "\n",
    "        \n",
    "            \n",
    "        "
   ]
  },
  {
   "cell_type": "code",
   "execution_count": 3,
   "metadata": {
    "collapsed": false
   },
   "outputs": [
    {
     "name": "stdout",
     "output_type": "stream",
     "text": [
      "0.9217\n"
     ]
    }
   ],
   "source": [
    "n = Network()\n",
    "n.build_graph()\n",
    "n.init_variables()\n",
    "n.train(2000)\n",
    "print(n.validate())"
   ]
  },
  {
   "cell_type": "code",
   "execution_count": null,
   "metadata": {
    "collapsed": false
   },
   "outputs": [
    {
     "data": {
      "image/png": "[encoded data removed]",
      "text/plain": [
       "<matplotlib.figure.Figure at 0x7f081068ff90>"
      ]
     },
     "metadata": {},
     "output_type": "display_data"
    }
   ],
   "source": [
    "n.layer_utility(2)"
   ]
  },
  {
   "cell_type": "code",
   "execution_count": null,
   "metadata": {
    "collapsed": false
   },
   "outputs": [
    {
     "name": "stdout",
     "output_type": "stream",
     "text": [
      "0.9369\n",
      "0.9474\n",
      "0.9529\n"
     ]
    }
   ],
   "source": [
    "previous_step = -100 \n",
    "rate = 0.05\n",
    "rate_decay = 1.0\n",
    "for i in range(15):\n",
    "    n.brain_damage(2, rate)\n",
    "    n.brain_damage(1, rate)\n",
    "    n.train(2000)\n",
    "    current_step = n.validate()\n",
    "    rate = rate * rate_decay\n",
    "    print(current_step)"
   ]
  },
  {
   "cell_type": "code",
   "execution_count": null,
   "metadata": {
    "collapsed": false
   },
   "outputs": [],
   "source": [
    "n.layer_utility(2)"
   ]
  },
  {
   "cell_type": "code",
   "execution_count": null,
   "metadata": {
    "collapsed": false
   },
   "outputs": [],
   "source": [
    "n.session.run(n.weights[1][0])"
   ]
  },
  {
   "cell_type": "code",
   "execution_count": null,
   "metadata": {
    "collapsed": true
   },
   "outputs": [],
   "source": []
  }
 ],
 "metadata": {
  "kernelspec": {
   "display_name": "Python 2",
   "language": "python",
   "name": "python2"
  },
  "language_info": {
   "codemirror_mode": {
    "name": "ipython",
    "version": 2
   },
   "file_extension": ".py",
   "mimetype": "text/x-python",
   "name": "python",
   "nbconvert_exporter": "python",
   "pygments_lexer": "ipython2",
   "version": "2.7.6"
  }
 },
 "nbformat": 4,
 "nbformat_minor": 0
}
